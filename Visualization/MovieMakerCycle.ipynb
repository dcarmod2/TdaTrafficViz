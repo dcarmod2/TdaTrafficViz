{
 "cells": [
  {
   "cell_type": "code",
   "execution_count": 1,
   "metadata": {},
   "outputs": [],
   "source": [
    "import json\n",
    "from selenium import webdriver\n",
    "from selenium.webdriver.support.ui import WebDriverWait\n",
    "from selenium.webdriver.support import expected_conditions as EC\n",
    "from selenium.webdriver.common.by import By\n",
    "from selenium.common.exceptions import TimeoutException\n",
    "import os\n",
    "import re\n",
    "import cv2"
   ]
  },
  {
   "cell_type": "markdown",
   "metadata": {},
   "source": [
    "## Edit the JS file each frame ##"
   ]
  },
  {
   "cell_type": "code",
   "execution_count": 2,
   "metadata": {},
   "outputs": [],
   "source": [
    "URL_BASE = 'http://0.0.0.0:31338/'\n",
    "MOVIE_FOLDER_CYCLES = 'CycleEdgeData_level_-3/'\n",
    "MOVIE_FOLDER_RIPS_EDGES = 'RipsGraphEdges_level_-3/'\n",
    "MOVIE_FOLDER_RIPS_NODES = 'RipsGraphNodes_level_-3/'\n",
    "MOVIE_FOLDER_CONN = 'H0gens_level_-3/'"
   ]
  },
  {
   "cell_type": "code",
   "execution_count": 3,
   "metadata": {},
   "outputs": [],
   "source": [
    "with open('cyclePlotBase.js','r') as f:\n",
    "    cycle_orig_lines = f.readlines()\n",
    "    \n",
    "with open('ripsPlotBase.js','r') as f:\n",
    "    rips_orig_lines = f.readlines()\n",
    "    \n",
    "with open('H0PlotBase.js','r') as f:\n",
    "    H0_orig_lines = f.readlines()\n",
    "\n",
    "cycle_lines = cycle_orig_lines.copy()\n",
    "rips_lines = rips_orig_lines.copy()\n",
    "H0_lines = H0_orig_lines.copy()\n",
    "arr_line_ind = [i for i,line in enumerate(cycle_orig_lines) if re.findall(r'REPLACE_FILE_ARR',line)][0]"
   ]
  },
  {
   "cell_type": "code",
   "execution_count": 4,
   "metadata": {},
   "outputs": [],
   "source": [
    "def sort_key(in_str):\n",
    "    digits = tuple([int(x) for x in re.findall(r'\\d+',in_str)])\n",
    "    return digits"
   ]
  },
  {
   "cell_type": "code",
   "execution_count": 5,
   "metadata": {},
   "outputs": [],
   "source": [
    "files_cycles = sorted(os.listdir(MOVIE_FOLDER_CYCLES),key=sort_key)\n",
    "files_rips_edges = sorted(os.listdir(MOVIE_FOLDER_RIPS_EDGES),key=sort_key)\n",
    "files_rips_nodes = sorted(os.listdir(MOVIE_FOLDER_RIPS_NODES),key=sort_key)\n",
    "files_conn = sorted(os.listdir(MOVIE_FOLDER_CONN),key=sort_key)"
   ]
  },
  {
   "cell_type": "markdown",
   "metadata": {},
   "source": [
    "## Get generator array for each frame ##"
   ]
  },
  {
   "cell_type": "code",
   "execution_count": 6,
   "metadata": {},
   "outputs": [],
   "source": [
    "frames_cycles = sorted(set([re.findall(r'\\d+',file)[0] for file in files_cycles]),key = lambda x: int(x))\n",
    "frames_rips_edges = sorted(set([re.findall(r'\\d+',file)[0] for file in files_rips_edges]),key = lambda x: int(x))\n",
    "frames_rips_nodes = sorted(set([re.findall(r'\\d+',file)[0] for file in files_rips_nodes]),key = lambda x: int(x))\n",
    "frames_conn = sorted(set([re.findall(r'\\d+',file)[1] for file in files_conn]),key = lambda x: int(x))\n",
    "gen_cycles = [(frame,sorted([URL_BASE+MOVIE_FOLDER_CYCLES+file for file in files_cycles if re.findall(r'\\d+',file)[0] == frame],key=sort_key)) for frame in frames_cycles]\n",
    "gen_rips_edges = [(frame,sorted([URL_BASE+MOVIE_FOLDER_RIPS_EDGES+file for file in files_rips_edges if re.findall(r'\\d+',file)[0] == frame],key=sort_key)) for frame in frames_rips_edges]\n",
    "gen_rips_nodes = [(frame,sorted([URL_BASE+MOVIE_FOLDER_RIPS_NODES+file for file in files_rips_nodes if re.findall(r'\\d+',file)[0] == frame],key=sort_key)) for frame in frames_rips_nodes]\n",
    "gen_conn = [(frame,sorted([URL_BASE+MOVIE_FOLDER_CONN+file for file in files_conn if re.findall(r'\\d+',file)[1] == frame],key=sort_key)) for frame in frames_conn]"
   ]
  },
  {
   "cell_type": "code",
   "execution_count": 7,
   "metadata": {},
   "outputs": [],
   "source": [
    "num_frames = len(os.listdir('TotPers_level_-3'))"
   ]
  },
  {
   "cell_type": "code",
   "execution_count": 8,
   "metadata": {},
   "outputs": [
    {
     "data": {
      "text/plain": [
       "514"
      ]
     },
     "execution_count": 8,
     "metadata": {},
     "output_type": "execute_result"
    }
   ],
   "source": [
    "num_frames"
   ]
  },
  {
   "cell_type": "code",
   "execution_count": 9,
   "metadata": {},
   "outputs": [],
   "source": [
    "with open('map.html','r') as f:\n",
    "    map_orig_lines = f.readlines()\n",
    "    \n",
    "map_lines = map_orig_lines.copy()\n",
    "TR_ind = [i for i,line in enumerate(map_orig_lines) if re.findall(r'TOP_RIGHT_IMAGE',line)][0]\n",
    "MR_ind = [i for i,line in enumerate(map_orig_lines) if re.findall(r'MID_RIGHT_IMAGE',line)][0]\n",
    "BR_ind = [i for i,line in enumerate(map_orig_lines) if re.findall(r'BOT_RIGHT_IMAGE',line)][0]"
   ]
  },
  {
   "cell_type": "code",
   "execution_count": 15,
   "metadata": {},
   "outputs": [],
   "source": [
    "browser = webdriver.Chrome()\n",
    "browser.set_window_size(600,2000)\n",
    "\n",
    "for frame in range(372,num_frames):\n",
    "    TR_IM = 'TotPers_level_-3/TotPers_frame_'+str(frame)+'.png'\n",
    "    MR_IM = 'H0Plots_level_-3/H0Plots_frame_'+str(frame)+'.png'\n",
    "    BR_IM = 'H1Pers_level_-3/H1Pers_frame_'+str(frame)+'.png'\n",
    "    \n",
    "    map_lines[TR_ind] = map_orig_lines[TR_ind].replace(r'TOP_RIGHT_IMAGE',TR_IM)\n",
    "    map_lines[MR_ind] = map_orig_lines[MR_ind].replace(r'MID_RIGHT_IMAGE',MR_IM)\n",
    "    map_lines[BR_ind] = map_orig_lines[BR_ind].replace(r'BOT_RIGHT_IMAGE',BR_IM)\n",
    "\n",
    "    with open('mapTemp.html','w+') as f:\n",
    "        for line in map_lines:\n",
    "            f.write(line)\n",
    "            \n",
    "    cycle_arr = [gen for fr,gen in gen_cycles if int(fr) == frame]\n",
    "    rips_arr = [gen for fr,gen in gen_rips_edges if int(fr) == frame] + [gen for fr,gen in gen_rips_nodes if int(fr) == frame]\n",
    "    H0_arr = [gen for fr,gen in gen_conn if int(fr) == frame]\n",
    "    \n",
    "    if cycle_arr:\n",
    "        cycle_lines[arr_line_ind] = cycle_orig_lines[arr_line_ind].replace('REPLACE_FILE_ARR',repr(cycle_arr[0]))\n",
    "    else:\n",
    "        cycle_lines[arr_line_ind] = cycle_orig_lines[arr_line_ind].replace('REPLACE_FILE_ARR','[\"' + URL_BASE + 'placeholder.json'+ '\"]')\n",
    "    if rips_arr:\n",
    "        rips_lines[arr_line_ind] = rips_orig_lines[arr_line_ind].replace('REPLACE_FILE_ARR',repr(rips_arr))\n",
    "    else:\n",
    "        rips_lines[arr_line_ind] = rips_orig_lines[arr_line_ind].replace('REPLACE_FILE_ARR','[\"'+URL_BASE + 'placeholder.json'+'\"]')\n",
    "    if H0_arr:\n",
    "        H0_lines[arr_line_ind] = H0_orig_lines[arr_line_ind].replace('REPLACE_FILE_ARR',repr(H0_arr[0]))\n",
    "    else:\n",
    "        H0_lines[arr_line_ind] = H0_orig_lines[arr_line_ind].replace('REPLACE_FILE_ARR','[\"'+URL_BASE + 'placeholder.json'+'\"]')\n",
    "        \n",
    "    with open('cyclePlotTemp.js','w+') as f:\n",
    "        for line in cycle_lines:\n",
    "            f.write(line)\n",
    "    with open('ripsPlotTemp.js','w+') as f:\n",
    "        for line in rips_lines:\n",
    "            f.write(line)\n",
    "    with open('H0PlotTemp.js','w+') as f:\n",
    "        for line in H0_lines:\n",
    "            f.write(line)\n",
    "            \n",
    "    browser.get(\"file://\"+os.getcwd()+\"/\"+\"mapTemp.html\")\n",
    "    delay = 10\n",
    "    try:\n",
    "        waitElemCycle = WebDriverWait(browser,delay).until(EC.presence_of_element_located((By.ID, 'waitDivCycle')))\n",
    "        waitElemRips = WebDriverWait(browser,delay).until(EC.presence_of_element_located((By.ID, 'waitDivRips')))\n",
    "        waitElemH0 = WebDriverWait(browser,delay).until(EC.presence_of_element_located((By.ID, 'waitDivH0')))\n",
    "    except TimeoutException:\n",
    "        print(\"Loading took too long\")\n",
    "    browser.save_screenshot(\"MovieImages/im_min_non_full\"+str(frame)+\".png\")\n",
    "            \n",
    "            "
   ]
  },
  {
   "cell_type": "code",
   "execution_count": 16,
   "metadata": {},
   "outputs": [],
   "source": [
    "image_folder = 'MovieImages'\n",
    "video_name = 'MinMov_level_-3.mp4'\n",
    "\n",
    "images = sorted([img for img in os.listdir(image_folder) if img.endswith(\".png\")],key=sort_key)\n",
    "good_images = [img for img in images if int(re.findall(r'\\d+',img)[0]) < num_frames]\n",
    "last_im = [good_images[-1]]\n",
    "good_images += last_im*20\n",
    "frame = cv2.imread(os.path.join(image_folder, good_images[0]))\n",
    "height, width, layers = frame.shape\n",
    "\n",
    "fourcc = cv2.VideoWriter_fourcc(*'mp4v')\n",
    "video = cv2.VideoWriter(video_name, fourcc, 20, (width,height))\n",
    "\n",
    "for image in good_images:\n",
    "    video.write(cv2.imread(os.path.join(image_folder, image)))\n",
    "\n",
    "cv2.destroyAllWindows()\n",
    "video.release()"
   ]
  },
  {
   "cell_type": "code",
   "execution_count": null,
   "metadata": {},
   "outputs": [],
   "source": []
  }
 ],
 "metadata": {
  "kernelspec": {
   "display_name": "Python 3",
   "language": "python",
   "name": "python3"
  },
  "language_info": {
   "codemirror_mode": {
    "name": "ipython",
    "version": 3
   },
   "file_extension": ".py",
   "mimetype": "text/x-python",
   "name": "python",
   "nbconvert_exporter": "python",
   "pygments_lexer": "ipython3",
   "version": "3.7.6"
  }
 },
 "nbformat": 4,
 "nbformat_minor": 4
}
